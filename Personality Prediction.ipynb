{
  "cells": [
    {
      "cell_type": "markdown",
      "source": [
        "**DONE BY**\n",
        "\n"
      ],
      "metadata": {
        "id": "2u-RZMccCDJt"
      },
      "id": "2u-RZMccCDJt"
    },
    {
      "cell_type": "markdown",
      "source": [
        "**HARINI GOKULRAM NAIDU  19MIA1004**\n",
        "\n"
      ],
      "metadata": {
        "id": "iDJTTMbdDMsT"
      },
      "id": "iDJTTMbdDMsT"
    },
    {
      "cell_type": "markdown",
      "source": [
        "**SHIVANI GOKULRAM NAIDU  19MIA1006**\n"
      ],
      "metadata": {
        "id": "kCYdBNXnDir9"
      },
      "id": "kCYdBNXnDir9"
    },
    {
      "cell_type": "markdown",
      "source": [
        "\n",
        "**HARSHINI AIYYER  19MIA1050**\n",
        "\n"
      ],
      "metadata": {
        "id": "TsXHOC-IDlW6"
      },
      "id": "TsXHOC-IDlW6"
    },
    {
      "cell_type": "markdown",
      "source": [
        "**ANNUGRAHA S  19MIA1059**"
      ],
      "metadata": {
        "id": "hT8tIb9JDpJb"
      },
      "id": "hT8tIb9JDpJb"
    },
    {
      "cell_type": "markdown",
      "metadata": {
        "id": "lWXCvV21VdRo"
      },
      "source": [
        "## **IMPORTING THE REQUIRED LIBRARIES** "
      ],
      "id": "lWXCvV21VdRo"
    },
    {
      "cell_type": "code",
      "execution_count": 1,
      "metadata": {
        "id": "898ac2e9"
      },
      "outputs": [],
      "source": [
        "import numpy as np\n",
        "import matplotlib.pyplot as plt\n",
        "import pandas as pd\n",
        "import seaborn as sb\n",
        "import tensorflow as tf\n",
        "\n",
        "from tensorflow import keras\n",
        "# Import necessary modules\n",
        "from sklearn.model_selection import train_test_split\n",
        "from sklearn.metrics import mean_squared_error\n",
        "from math import sqrt\n",
        "\n",
        "from keras.callbacks import ModelCheckpoint\n",
        "from keras.models import Sequential\n",
        "from keras.layers import Dense, Activation, Flatten"
      ],
      "id": "898ac2e9"
    },
    {
      "cell_type": "markdown",
      "metadata": {
        "id": "eeDuRjNLVZci"
      },
      "source": [
        "## **IMPORTING THE DATASET**\n"
      ],
      "id": "eeDuRjNLVZci"
    },
    {
      "cell_type": "code",
      "execution_count": 2,
      "metadata": {
        "colab": {
          "base_uri": "https://localhost:8080/",
          "height": 263,
          "resources": {
            "http://localhost:8080/nbextensions/google.colab/files.js": {
              "data": "Ly8gQ29weXJpZ2h0IDIwMTcgR29vZ2xlIExMQwovLwovLyBMaWNlbnNlZCB1bmRlciB0aGUgQXBhY2hlIExpY2Vuc2UsIFZlcnNpb24gMi4wICh0aGUgIkxpY2Vuc2UiKTsKLy8geW91IG1heSBub3QgdXNlIHRoaXMgZmlsZSBleGNlcHQgaW4gY29tcGxpYW5jZSB3aXRoIHRoZSBMaWNlbnNlLgovLyBZb3UgbWF5IG9idGFpbiBhIGNvcHkgb2YgdGhlIExpY2Vuc2UgYXQKLy8KLy8gICAgICBodHRwOi8vd3d3LmFwYWNoZS5vcmcvbGljZW5zZXMvTElDRU5TRS0yLjAKLy8KLy8gVW5sZXNzIHJlcXVpcmVkIGJ5IGFwcGxpY2FibGUgbGF3IG9yIGFncmVlZCB0byBpbiB3cml0aW5nLCBzb2Z0d2FyZQovLyBkaXN0cmlidXRlZCB1bmRlciB0aGUgTGljZW5zZSBpcyBkaXN0cmlidXRlZCBvbiBhbiAiQVMgSVMiIEJBU0lTLAovLyBXSVRIT1VUIFdBUlJBTlRJRVMgT1IgQ09ORElUSU9OUyBPRiBBTlkgS0lORCwgZWl0aGVyIGV4cHJlc3Mgb3IgaW1wbGllZC4KLy8gU2VlIHRoZSBMaWNlbnNlIGZvciB0aGUgc3BlY2lmaWMgbGFuZ3VhZ2UgZ292ZXJuaW5nIHBlcm1pc3Npb25zIGFuZAovLyBsaW1pdGF0aW9ucyB1bmRlciB0aGUgTGljZW5zZS4KCi8qKgogKiBAZmlsZW92ZXJ2aWV3IEhlbHBlcnMgZm9yIGdvb2dsZS5jb2xhYiBQeXRob24gbW9kdWxlLgogKi8KKGZ1bmN0aW9uKHNjb3BlKSB7CmZ1bmN0aW9uIHNwYW4odGV4dCwgc3R5bGVBdHRyaWJ1dGVzID0ge30pIHsKICBjb25zdCBlbGVtZW50ID0gZG9jdW1lbnQuY3JlYXRlRWxlbWVudCgnc3BhbicpOwogIGVsZW1lbnQudGV4dENvbnRlbnQgPSB0ZXh0OwogIGZvciAoY29uc3Qga2V5IG9mIE9iamVjdC5rZXlzKHN0eWxlQXR0cmlidXRlcykpIHsKICAgIGVsZW1lbnQuc3R5bGVba2V5XSA9IHN0eWxlQXR0cmlidXRlc1trZXldOwogIH0KICByZXR1cm4gZWxlbWVudDsKfQoKLy8gTWF4IG51bWJlciBvZiBieXRlcyB3aGljaCB3aWxsIGJlIHVwbG9hZGVkIGF0IGEgdGltZS4KY29uc3QgTUFYX1BBWUxPQURfU0laRSA9IDEwMCAqIDEwMjQ7CgpmdW5jdGlvbiBfdXBsb2FkRmlsZXMoaW5wdXRJZCwgb3V0cHV0SWQpIHsKICBjb25zdCBzdGVwcyA9IHVwbG9hZEZpbGVzU3RlcChpbnB1dElkLCBvdXRwdXRJZCk7CiAgY29uc3Qgb3V0cHV0RWxlbWVudCA9IGRvY3VtZW50LmdldEVsZW1lbnRCeUlkKG91dHB1dElkKTsKICAvLyBDYWNoZSBzdGVwcyBvbiB0aGUgb3V0cHV0RWxlbWVudCB0byBtYWtlIGl0IGF2YWlsYWJsZSBmb3IgdGhlIG5leHQgY2FsbAogIC8vIHRvIHVwbG9hZEZpbGVzQ29udGludWUgZnJvbSBQeXRob24uCiAgb3V0cHV0RWxlbWVudC5zdGVwcyA9IHN0ZXBzOwoKICByZXR1cm4gX3VwbG9hZEZpbGVzQ29udGludWUob3V0cHV0SWQpOwp9CgovLyBUaGlzIGlzIHJvdWdobHkgYW4gYXN5bmMgZ2VuZXJhdG9yIChub3Qgc3VwcG9ydGVkIGluIHRoZSBicm93c2VyIHlldCksCi8vIHdoZXJlIHRoZXJlIGFyZSBtdWx0aXBsZSBhc3luY2hyb25vdXMgc3RlcHMgYW5kIHRoZSBQeXRob24gc2lkZSBpcyBnb2luZwovLyB0byBwb2xsIGZvciBjb21wbGV0aW9uIG9mIGVhY2ggc3RlcC4KLy8gVGhpcyB1c2VzIGEgUHJvbWlzZSB0byBibG9jayB0aGUgcHl0aG9uIHNpZGUgb24gY29tcGxldGlvbiBvZiBlYWNoIHN0ZXAsCi8vIHRoZW4gcGFzc2VzIHRoZSByZXN1bHQgb2YgdGhlIHByZXZpb3VzIHN0ZXAgYXMgdGhlIGlucHV0IHRvIHRoZSBuZXh0IHN0ZXAuCmZ1bmN0aW9uIF91cGxvYWRGaWxlc0NvbnRpbnVlKG91dHB1dElkKSB7CiAgY29uc3Qgb3V0cHV0RWxlbWVudCA9IGRvY3VtZW50LmdldEVsZW1lbnRCeUlkKG91dHB1dElkKTsKICBjb25zdCBzdGVwcyA9IG91dHB1dEVsZW1lbnQuc3RlcHM7CgogIGNvbnN0IG5leHQgPSBzdGVwcy5uZXh0KG91dHB1dEVsZW1lbnQubGFzdFByb21pc2VWYWx1ZSk7CiAgcmV0dXJuIFByb21pc2UucmVzb2x2ZShuZXh0LnZhbHVlLnByb21pc2UpLnRoZW4oKHZhbHVlKSA9PiB7CiAgICAvLyBDYWNoZSB0aGUgbGFzdCBwcm9taXNlIHZhbHVlIHRvIG1ha2UgaXQgYXZhaWxhYmxlIHRvIHRoZSBuZXh0CiAgICAvLyBzdGVwIG9mIHRoZSBnZW5lcmF0b3IuCiAgICBvdXRwdXRFbGVtZW50Lmxhc3RQcm9taXNlVmFsdWUgPSB2YWx1ZTsKICAgIHJldHVybiBuZXh0LnZhbHVlLnJlc3BvbnNlOwogIH0pOwp9CgovKioKICogR2VuZXJhdG9yIGZ1bmN0aW9uIHdoaWNoIGlzIGNhbGxlZCBiZXR3ZWVuIGVhY2ggYXN5bmMgc3RlcCBvZiB0aGUgdXBsb2FkCiAqIHByb2Nlc3MuCiAqIEBwYXJhbSB7c3RyaW5nfSBpbnB1dElkIEVsZW1lbnQgSUQgb2YgdGhlIGlucHV0IGZpbGUgcGlja2VyIGVsZW1lbnQuCiAqIEBwYXJhbSB7c3RyaW5nfSBvdXRwdXRJZCBFbGVtZW50IElEIG9mIHRoZSBvdXRwdXQgZGlzcGxheS4KICogQHJldHVybiB7IUl0ZXJhYmxlPCFPYmplY3Q+fSBJdGVyYWJsZSBvZiBuZXh0IHN0ZXBzLgogKi8KZnVuY3Rpb24qIHVwbG9hZEZpbGVzU3RlcChpbnB1dElkLCBvdXRwdXRJZCkgewogIGNvbnN0IGlucHV0RWxlbWVudCA9IGRvY3VtZW50LmdldEVsZW1lbnRCeUlkKGlucHV0SWQpOwogIGlucHV0RWxlbWVudC5kaXNhYmxlZCA9IGZhbHNlOwoKICBjb25zdCBvdXRwdXRFbGVtZW50ID0gZG9jdW1lbnQuZ2V0RWxlbWVudEJ5SWQob3V0cHV0SWQpOwogIG91dHB1dEVsZW1lbnQuaW5uZXJIVE1MID0gJyc7CgogIGNvbnN0IHBpY2tlZFByb21pc2UgPSBuZXcgUHJvbWlzZSgocmVzb2x2ZSkgPT4gewogICAgaW5wdXRFbGVtZW50LmFkZEV2ZW50TGlzdGVuZXIoJ2NoYW5nZScsIChlKSA9PiB7CiAgICAgIHJlc29sdmUoZS50YXJnZXQuZmlsZXMpOwogICAgfSk7CiAgfSk7CgogIGNvbnN0IGNhbmNlbCA9IGRvY3VtZW50LmNyZWF0ZUVsZW1lbnQoJ2J1dHRvbicpOwogIGlucHV0RWxlbWVudC5wYXJlbnRFbGVtZW50LmFwcGVuZENoaWxkKGNhbmNlbCk7CiAgY2FuY2VsLnRleHRDb250ZW50ID0gJ0NhbmNlbCB1cGxvYWQnOwogIGNvbnN0IGNhbmNlbFByb21pc2UgPSBuZXcgUHJvbWlzZSgocmVzb2x2ZSkgPT4gewogICAgY2FuY2VsLm9uY2xpY2sgPSAoKSA9PiB7CiAgICAgIHJlc29sdmUobnVsbCk7CiAgICB9OwogIH0pOwoKICAvLyBXYWl0IGZvciB0aGUgdXNlciB0byBwaWNrIHRoZSBmaWxlcy4KICBjb25zdCBmaWxlcyA9IHlpZWxkIHsKICAgIHByb21pc2U6IFByb21pc2UucmFjZShbcGlja2VkUHJvbWlzZSwgY2FuY2VsUHJvbWlzZV0pLAogICAgcmVzcG9uc2U6IHsKICAgICAgYWN0aW9uOiAnc3RhcnRpbmcnLAogICAgfQogIH07CgogIGNhbmNlbC5yZW1vdmUoKTsKCiAgLy8gRGlzYWJsZSB0aGUgaW5wdXQgZWxlbWVudCBzaW5jZSBmdXJ0aGVyIHBpY2tzIGFyZSBub3QgYWxsb3dlZC4KICBpbnB1dEVsZW1lbnQuZGlzYWJsZWQgPSB0cnVlOwoKICBpZiAoIWZpbGVzKSB7CiAgICByZXR1cm4gewogICAgICByZXNwb25zZTogewogICAgICAgIGFjdGlvbjogJ2NvbXBsZXRlJywKICAgICAgfQogICAgfTsKICB9CgogIGZvciAoY29uc3QgZmlsZSBvZiBmaWxlcykgewogICAgY29uc3QgbGkgPSBkb2N1bWVudC5jcmVhdGVFbGVtZW50KCdsaScpOwogICAgbGkuYXBwZW5kKHNwYW4oZmlsZS5uYW1lLCB7Zm9udFdlaWdodDogJ2JvbGQnfSkpOwogICAgbGkuYXBwZW5kKHNwYW4oCiAgICAgICAgYCgke2ZpbGUudHlwZSB8fCAnbi9hJ30pIC0gJHtmaWxlLnNpemV9IGJ5dGVzLCBgICsKICAgICAgICBgbGFzdCBtb2RpZmllZDogJHsKICAgICAgICAgICAgZmlsZS5sYXN0TW9kaWZpZWREYXRlID8gZmlsZS5sYXN0TW9kaWZpZWREYXRlLnRvTG9jYWxlRGF0ZVN0cmluZygpIDoKICAgICAgICAgICAgICAgICAgICAgICAgICAgICAgICAgICAgJ24vYSd9IC0gYCkpOwogICAgY29uc3QgcGVyY2VudCA9IHNwYW4oJzAlIGRvbmUnKTsKICAgIGxpLmFwcGVuZENoaWxkKHBlcmNlbnQpOwoKICAgIG91dHB1dEVsZW1lbnQuYXBwZW5kQ2hpbGQobGkpOwoKICAgIGNvbnN0IGZpbGVEYXRhUHJvbWlzZSA9IG5ldyBQcm9taXNlKChyZXNvbHZlKSA9PiB7CiAgICAgIGNvbnN0IHJlYWRlciA9IG5ldyBGaWxlUmVhZGVyKCk7CiAgICAgIHJlYWRlci5vbmxvYWQgPSAoZSkgPT4gewogICAgICAgIHJlc29sdmUoZS50YXJnZXQucmVzdWx0KTsKICAgICAgfTsKICAgICAgcmVhZGVyLnJlYWRBc0FycmF5QnVmZmVyKGZpbGUpOwogICAgfSk7CiAgICAvLyBXYWl0IGZvciB0aGUgZGF0YSB0byBiZSByZWFkeS4KICAgIGxldCBmaWxlRGF0YSA9IHlpZWxkIHsKICAgICAgcHJvbWlzZTogZmlsZURhdGFQcm9taXNlLAogICAgICByZXNwb25zZTogewogICAgICAgIGFjdGlvbjogJ2NvbnRpbnVlJywKICAgICAgfQogICAgfTsKCiAgICAvLyBVc2UgYSBjaHVua2VkIHNlbmRpbmcgdG8gYXZvaWQgbWVzc2FnZSBzaXplIGxpbWl0cy4gU2VlIGIvNjIxMTU2NjAuCiAgICBsZXQgcG9zaXRpb24gPSAwOwogICAgZG8gewogICAgICBjb25zdCBsZW5ndGggPSBNYXRoLm1pbihmaWxlRGF0YS5ieXRlTGVuZ3RoIC0gcG9zaXRpb24sIE1BWF9QQVlMT0FEX1NJWkUpOwogICAgICBjb25zdCBjaHVuayA9IG5ldyBVaW50OEFycmF5KGZpbGVEYXRhLCBwb3NpdGlvbiwgbGVuZ3RoKTsKICAgICAgcG9zaXRpb24gKz0gbGVuZ3RoOwoKICAgICAgY29uc3QgYmFzZTY0ID0gYnRvYShTdHJpbmcuZnJvbUNoYXJDb2RlLmFwcGx5KG51bGwsIGNodW5rKSk7CiAgICAgIHlpZWxkIHsKICAgICAgICByZXNwb25zZTogewogICAgICAgICAgYWN0aW9uOiAnYXBwZW5kJywKICAgICAgICAgIGZpbGU6IGZpbGUubmFtZSwKICAgICAgICAgIGRhdGE6IGJhc2U2NCwKICAgICAgICB9LAogICAgICB9OwoKICAgICAgbGV0IHBlcmNlbnREb25lID0gZmlsZURhdGEuYnl0ZUxlbmd0aCA9PT0gMCA/CiAgICAgICAgICAxMDAgOgogICAgICAgICAgTWF0aC5yb3VuZCgocG9zaXRpb24gLyBmaWxlRGF0YS5ieXRlTGVuZ3RoKSAqIDEwMCk7CiAgICAgIHBlcmNlbnQudGV4dENvbnRlbnQgPSBgJHtwZXJjZW50RG9uZX0lIGRvbmVgOwoKICAgIH0gd2hpbGUgKHBvc2l0aW9uIDwgZmlsZURhdGEuYnl0ZUxlbmd0aCk7CiAgfQoKICAvLyBBbGwgZG9uZS4KICB5aWVsZCB7CiAgICByZXNwb25zZTogewogICAgICBhY3Rpb246ICdjb21wbGV0ZScsCiAgICB9CiAgfTsKfQoKc2NvcGUuZ29vZ2xlID0gc2NvcGUuZ29vZ2xlIHx8IHt9OwpzY29wZS5nb29nbGUuY29sYWIgPSBzY29wZS5nb29nbGUuY29sYWIgfHwge307CnNjb3BlLmdvb2dsZS5jb2xhYi5fZmlsZXMgPSB7CiAgX3VwbG9hZEZpbGVzLAogIF91cGxvYWRGaWxlc0NvbnRpbnVlLAp9Owp9KShzZWxmKTsK",
              "headers": [
                [
                  "content-type",
                  "application/javascript"
                ]
              ],
              "ok": true,
              "status": 200,
              "status_text": ""
            }
          }
        },
        "id": "RNcVqas6piHx",
        "outputId": "9ef2eef1-7dd4-4585-fb3e-34cb1ac6ed4d"
      },
      "outputs": [
        {
          "output_type": "display_data",
          "data": {
            "text/plain": [
              "<IPython.core.display.HTML object>"
            ],
            "text/html": [
              "\n",
              "     <input type=\"file\" id=\"files-81e55f3b-40d9-436f-acc4-d7cdd22f9b6f\" name=\"files[]\" multiple disabled\n",
              "        style=\"border:none\" />\n",
              "     <output id=\"result-81e55f3b-40d9-436f-acc4-d7cdd22f9b6f\">\n",
              "      Upload widget is only available when the cell has been executed in the\n",
              "      current browser session. Please rerun this cell to enable.\n",
              "      </output>\n",
              "      <script src=\"/nbextensions/google.colab/files.js\"></script> "
            ]
          },
          "metadata": {}
        },
        {
          "output_type": "stream",
          "name": "stdout",
          "text": [
            "Saving personality.csv to personality (1).csv\n"
          ]
        },
        {
          "output_type": "execute_result",
          "data": {
            "text/plain": [
              "   Conscientiousness  Openess  Extraversion  Agreeableness  Stability\n",
              "0                6.0      5.0           5.0            5.5        5.5\n",
              "1                6.0      5.0           5.0            5.5        5.5\n",
              "2                6.0      5.0           5.0            5.5        5.5\n",
              "3                6.0      5.0           5.0            5.5        5.5\n",
              "4                6.0      5.0           5.0            5.5        5.5"
            ],
            "text/html": [
              "\n",
              "  <div id=\"df-b170c2c8-655c-4f60-92e8-f541790ac28c\">\n",
              "    <div class=\"colab-df-container\">\n",
              "      <div>\n",
              "<style scoped>\n",
              "    .dataframe tbody tr th:only-of-type {\n",
              "        vertical-align: middle;\n",
              "    }\n",
              "\n",
              "    .dataframe tbody tr th {\n",
              "        vertical-align: top;\n",
              "    }\n",
              "\n",
              "    .dataframe thead th {\n",
              "        text-align: right;\n",
              "    }\n",
              "</style>\n",
              "<table border=\"1\" class=\"dataframe\">\n",
              "  <thead>\n",
              "    <tr style=\"text-align: right;\">\n",
              "      <th></th>\n",
              "      <th>Conscientiousness</th>\n",
              "      <th>Openess</th>\n",
              "      <th>Extraversion</th>\n",
              "      <th>Agreeableness</th>\n",
              "      <th>Stability</th>\n",
              "    </tr>\n",
              "  </thead>\n",
              "  <tbody>\n",
              "    <tr>\n",
              "      <th>0</th>\n",
              "      <td>6.0</td>\n",
              "      <td>5.0</td>\n",
              "      <td>5.0</td>\n",
              "      <td>5.5</td>\n",
              "      <td>5.5</td>\n",
              "    </tr>\n",
              "    <tr>\n",
              "      <th>1</th>\n",
              "      <td>6.0</td>\n",
              "      <td>5.0</td>\n",
              "      <td>5.0</td>\n",
              "      <td>5.5</td>\n",
              "      <td>5.5</td>\n",
              "    </tr>\n",
              "    <tr>\n",
              "      <th>2</th>\n",
              "      <td>6.0</td>\n",
              "      <td>5.0</td>\n",
              "      <td>5.0</td>\n",
              "      <td>5.5</td>\n",
              "      <td>5.5</td>\n",
              "    </tr>\n",
              "    <tr>\n",
              "      <th>3</th>\n",
              "      <td>6.0</td>\n",
              "      <td>5.0</td>\n",
              "      <td>5.0</td>\n",
              "      <td>5.5</td>\n",
              "      <td>5.5</td>\n",
              "    </tr>\n",
              "    <tr>\n",
              "      <th>4</th>\n",
              "      <td>6.0</td>\n",
              "      <td>5.0</td>\n",
              "      <td>5.0</td>\n",
              "      <td>5.5</td>\n",
              "      <td>5.5</td>\n",
              "    </tr>\n",
              "  </tbody>\n",
              "</table>\n",
              "</div>\n",
              "      <button class=\"colab-df-convert\" onclick=\"convertToInteractive('df-b170c2c8-655c-4f60-92e8-f541790ac28c')\"\n",
              "              title=\"Convert this dataframe to an interactive table.\"\n",
              "              style=\"display:none;\">\n",
              "        \n",
              "  <svg xmlns=\"http://www.w3.org/2000/svg\" height=\"24px\"viewBox=\"0 0 24 24\"\n",
              "       width=\"24px\">\n",
              "    <path d=\"M0 0h24v24H0V0z\" fill=\"none\"/>\n",
              "    <path d=\"M18.56 5.44l.94 2.06.94-2.06 2.06-.94-2.06-.94-.94-2.06-.94 2.06-2.06.94zm-11 1L8.5 8.5l.94-2.06 2.06-.94-2.06-.94L8.5 2.5l-.94 2.06-2.06.94zm10 10l.94 2.06.94-2.06 2.06-.94-2.06-.94-.94-2.06-.94 2.06-2.06.94z\"/><path d=\"M17.41 7.96l-1.37-1.37c-.4-.4-.92-.59-1.43-.59-.52 0-1.04.2-1.43.59L10.3 9.45l-7.72 7.72c-.78.78-.78 2.05 0 2.83L4 21.41c.39.39.9.59 1.41.59.51 0 1.02-.2 1.41-.59l7.78-7.78 2.81-2.81c.8-.78.8-2.07 0-2.86zM5.41 20L4 18.59l7.72-7.72 1.47 1.35L5.41 20z\"/>\n",
              "  </svg>\n",
              "      </button>\n",
              "      \n",
              "  <style>\n",
              "    .colab-df-container {\n",
              "      display:flex;\n",
              "      flex-wrap:wrap;\n",
              "      gap: 12px;\n",
              "    }\n",
              "\n",
              "    .colab-df-convert {\n",
              "      background-color: #E8F0FE;\n",
              "      border: none;\n",
              "      border-radius: 50%;\n",
              "      cursor: pointer;\n",
              "      display: none;\n",
              "      fill: #1967D2;\n",
              "      height: 32px;\n",
              "      padding: 0 0 0 0;\n",
              "      width: 32px;\n",
              "    }\n",
              "\n",
              "    .colab-df-convert:hover {\n",
              "      background-color: #E2EBFA;\n",
              "      box-shadow: 0px 1px 2px rgba(60, 64, 67, 0.3), 0px 1px 3px 1px rgba(60, 64, 67, 0.15);\n",
              "      fill: #174EA6;\n",
              "    }\n",
              "\n",
              "    [theme=dark] .colab-df-convert {\n",
              "      background-color: #3B4455;\n",
              "      fill: #D2E3FC;\n",
              "    }\n",
              "\n",
              "    [theme=dark] .colab-df-convert:hover {\n",
              "      background-color: #434B5C;\n",
              "      box-shadow: 0px 1px 3px 1px rgba(0, 0, 0, 0.15);\n",
              "      filter: drop-shadow(0px 1px 2px rgba(0, 0, 0, 0.3));\n",
              "      fill: #FFFFFF;\n",
              "    }\n",
              "  </style>\n",
              "\n",
              "      <script>\n",
              "        const buttonEl =\n",
              "          document.querySelector('#df-b170c2c8-655c-4f60-92e8-f541790ac28c button.colab-df-convert');\n",
              "        buttonEl.style.display =\n",
              "          google.colab.kernel.accessAllowed ? 'block' : 'none';\n",
              "\n",
              "        async function convertToInteractive(key) {\n",
              "          const element = document.querySelector('#df-b170c2c8-655c-4f60-92e8-f541790ac28c');\n",
              "          const dataTable =\n",
              "            await google.colab.kernel.invokeFunction('convertToInteractive',\n",
              "                                                     [key], {});\n",
              "          if (!dataTable) return;\n",
              "\n",
              "          const docLinkHtml = 'Like what you see? Visit the ' +\n",
              "            '<a target=\"_blank\" href=https://colab.research.google.com/notebooks/data_table.ipynb>data table notebook</a>'\n",
              "            + ' to learn more about interactive tables.';\n",
              "          element.innerHTML = '';\n",
              "          dataTable['output_type'] = 'display_data';\n",
              "          await google.colab.output.renderOutput(dataTable, element);\n",
              "          const docLink = document.createElement('div');\n",
              "          docLink.innerHTML = docLinkHtml;\n",
              "          element.appendChild(docLink);\n",
              "        }\n",
              "      </script>\n",
              "    </div>\n",
              "  </div>\n",
              "  "
            ]
          },
          "metadata": {},
          "execution_count": 2
        }
      ],
      "source": [
        "from google.colab import files\n",
        "uploaded = files.upload()\n",
        "import io\n",
        "df = pd.read_csv(io.BytesIO(uploaded['personality.csv']),encoding = 'unicode escape')\n",
        "df.head()"
      ],
      "id": "RNcVqas6piHx"
    },
    {
      "cell_type": "code",
      "source": [
        "df.shape"
      ],
      "metadata": {
        "colab": {
          "base_uri": "https://localhost:8080/"
        },
        "id": "goQkfMqV5WX3",
        "outputId": "fa0d6364-7c7f-4389-854f-820c920327aa"
      },
      "id": "goQkfMqV5WX3",
      "execution_count": 3,
      "outputs": [
        {
          "output_type": "execute_result",
          "data": {
            "text/plain": [
              "(1860, 5)"
            ]
          },
          "metadata": {},
          "execution_count": 3
        }
      ]
    },
    {
      "cell_type": "markdown",
      "metadata": {
        "id": "gyekv3-qW_jT"
      },
      "source": [
        "**Checking the number of missing values**"
      ],
      "id": "gyekv3-qW_jT"
    },
    {
      "cell_type": "code",
      "execution_count": 4,
      "metadata": {
        "id": "9bc19616",
        "colab": {
          "base_uri": "https://localhost:8080/"
        },
        "outputId": "1cc3e155-28d9-4639-e868-d86a12063ad1"
      },
      "outputs": [
        {
          "output_type": "execute_result",
          "data": {
            "text/plain": [
              "Conscientiousness    0\n",
              "Openess              0\n",
              "Extraversion         0\n",
              "Agreeableness        0\n",
              "Stability            0\n",
              "dtype: int64"
            ]
          },
          "metadata": {},
          "execution_count": 4
        }
      ],
      "source": [
        "df.isna().sum()"
      ],
      "id": "9bc19616"
    },
    {
      "cell_type": "markdown",
      "metadata": {
        "id": "ZHuvfyIaXLch"
      },
      "source": [
        "**Dropping null values**"
      ],
      "id": "ZHuvfyIaXLch"
    },
    {
      "cell_type": "code",
      "execution_count": 5,
      "metadata": {
        "id": "1062c1d0"
      },
      "outputs": [],
      "source": [
        "df = df.dropna()"
      ],
      "id": "1062c1d0"
    },
    {
      "cell_type": "markdown",
      "metadata": {
        "id": "exN8OwzWXiZZ"
      },
      "source": [
        "**Returning top 5 values of the dataframe**"
      ],
      "id": "exN8OwzWXiZZ"
    },
    {
      "cell_type": "code",
      "execution_count": 6,
      "metadata": {
        "colab": {
          "base_uri": "https://localhost:8080/"
        },
        "id": "4fb6f1a8",
        "outputId": "8813445e-1d5f-4a72-ea41-31c7a7dd48ee"
      },
      "outputs": [
        {
          "output_type": "execute_result",
          "data": {
            "text/plain": [
              "array([[5. , 5. , 5.5, 5.5],\n",
              "       [5. , 5. , 5.5, 5.5],\n",
              "       [5. , 5. , 5.5, 5.5],\n",
              "       ...,\n",
              "       [7. , 7. , 7. , 7. ],\n",
              "       [7. , 7. , 7. , 7. ],\n",
              "       [7. , 7. , 7. , 7. ]])"
            ]
          },
          "metadata": {},
          "execution_count": 6
        }
      ],
      "source": [
        "x = df.iloc[:,1:]\n",
        "x.to_numpy()"
      ],
      "id": "4fb6f1a8"
    },
    {
      "cell_type": "markdown",
      "metadata": {
        "id": "T0FqaRkmX8B-"
      },
      "source": [
        "**Returning top 5 values of the target variable**"
      ],
      "id": "T0FqaRkmX8B-"
    },
    {
      "cell_type": "code",
      "execution_count": 7,
      "metadata": {
        "id": "ad730147",
        "colab": {
          "base_uri": "https://localhost:8080/"
        },
        "outputId": "23531e41-c563-478d-e247-3c875884fe08"
      },
      "outputs": [
        {
          "output_type": "execute_result",
          "data": {
            "text/plain": [
              "array([6., 6., 6., ..., 7., 7., 7.])"
            ]
          },
          "metadata": {},
          "execution_count": 7
        }
      ],
      "source": [
        "y = np.array(df.iloc[:,0])\n",
        "y"
      ],
      "id": "ad730147"
    },
    {
      "cell_type": "markdown",
      "metadata": {
        "id": "q0NDyqezYOi6"
      },
      "source": [
        "**Splitting dataset into train and test sets**"
      ],
      "id": "q0NDyqezYOi6"
    },
    {
      "cell_type": "code",
      "execution_count": 8,
      "metadata": {
        "id": "1adbb199"
      },
      "outputs": [],
      "source": [
        "from sklearn.model_selection import train_test_split\n",
        "\n",
        "x_train, x_test, y_train, y_test = train_test_split(x.to_numpy(),y,test_size = 0.2, random_state = 123)"
      ],
      "id": "1adbb199"
    },
    {
      "cell_type": "code",
      "execution_count": 9,
      "metadata": {
        "id": "T5hMkfv3Ha69"
      },
      "outputs": [],
      "source": [
        "VALIDATION_SPLIT=0.2"
      ],
      "id": "T5hMkfv3Ha69"
    },
    {
      "cell_type": "code",
      "execution_count": 10,
      "metadata": {
        "id": "Y2OQIrYYZtjJ"
      },
      "outputs": [],
      "source": [
        "from sklearn.preprocessing import MinMaxScaler\n",
        "\n",
        "sc = MinMaxScaler()\n",
        "\n",
        "x_train = sc.fit_transform(x_train)\n",
        "x_test = sc.fit_transform(x_test)\n"
      ],
      "id": "Y2OQIrYYZtjJ"
    },
    {
      "cell_type": "markdown",
      "metadata": {
        "id": "XLLVBwYsZObl"
      },
      "source": [
        "**Model building and compiling**"
      ],
      "id": "XLLVBwYsZObl"
    },
    {
      "cell_type": "code",
      "execution_count": 11,
      "metadata": {
        "id": "zI_0JEIVAsQQ",
        "colab": {
          "base_uri": "https://localhost:8080/"
        },
        "outputId": "000a3014-2dba-4be1-f5fa-eacbbe797554"
      },
      "outputs": [
        {
          "output_type": "stream",
          "name": "stdout",
          "text": [
            "Model: \"sequential\"\n",
            "_________________________________________________________________\n",
            " Layer (type)                Output Shape              Param #   \n",
            "=================================================================\n",
            " dense (Dense)               (None, 500)               2500      \n",
            "                                                                 \n",
            " dense_1 (Dense)             (None, 100)               50100     \n",
            "                                                                 \n",
            " dense_2 (Dense)             (None, 50)                5050      \n",
            "                                                                 \n",
            " dense_3 (Dense)             (None, 10)                510       \n",
            "                                                                 \n",
            " dense_4 (Dense)             (None, 1)                 11        \n",
            "                                                                 \n",
            "=================================================================\n",
            "Total params: 58,171\n",
            "Trainable params: 58,171\n",
            "Non-trainable params: 0\n",
            "_________________________________________________________________\n"
          ]
        }
      ],
      "source": [
        "model = Sequential()\n",
        "model.add(Dense(500, input_dim = 4, activation = \"relu\"))\n",
        "model.add(Dense(100, activation = \"relu\"))\n",
        "model.add(Dense(50, activation = \"relu\"))\n",
        "model.add(Dense(10, activation = \"softmax\"))\n",
        "model.add(Dense(1))\n",
        "\n",
        "model.summary()"
      ],
      "id": "zI_0JEIVAsQQ"
    },
    {
      "cell_type": "markdown",
      "metadata": {
        "id": "eiRjPQ5uZtVB"
      },
      "source": [
        "**Train the Model**"
      ],
      "id": "eiRjPQ5uZtVB"
    },
    {
      "cell_type": "code",
      "execution_count": 12,
      "metadata": {
        "id": "WmdA3nncfCon",
        "colab": {
          "base_uri": "https://localhost:8080/"
        },
        "outputId": "1e1107c2-9320-4976-d2df-9e84db7388a4"
      },
      "outputs": [
        {
          "output_type": "stream",
          "name": "stdout",
          "text": [
            "Epoch 1/100\n",
            "38/38 [==============================] - 1s 9ms/step - loss: 29.8670 - mae: 5.2970 - val_loss: 24.7542 - val_mae: 4.7899\n",
            "Epoch 2/100\n",
            "38/38 [==============================] - 0s 4ms/step - loss: 25.1511 - mae: 4.8391 - val_loss: 23.8995 - val_mae: 4.6992\n",
            "Epoch 3/100\n",
            "38/38 [==============================] - 0s 3ms/step - loss: 24.3387 - mae: 4.7546 - val_loss: 23.1448 - val_mae: 4.6182\n",
            "Epoch 4/100\n",
            "38/38 [==============================] - 0s 4ms/step - loss: 23.5919 - mae: 4.6749 - val_loss: 22.4282 - val_mae: 4.5399\n",
            "Epoch 5/100\n",
            "38/38 [==============================] - 0s 4ms/step - loss: 22.8746 - mae: 4.5978 - val_loss: 21.7443 - val_mae: 4.4641\n",
            "Epoch 6/100\n",
            "38/38 [==============================] - 0s 3ms/step - loss: 22.1849 - mae: 4.5226 - val_loss: 21.0776 - val_mae: 4.3903\n",
            "Epoch 7/100\n",
            "38/38 [==============================] - 0s 4ms/step - loss: 21.5155 - mae: 4.4484 - val_loss: 20.4314 - val_mae: 4.3176\n",
            "Epoch 8/100\n",
            "38/38 [==============================] - 0s 4ms/step - loss: 20.8656 - mae: 4.3755 - val_loss: 19.8044 - val_mae: 4.2458\n",
            "Epoch 9/100\n",
            "38/38 [==============================] - 0s 4ms/step - loss: 20.2318 - mae: 4.3035 - val_loss: 19.1968 - val_mae: 4.1750\n",
            "Epoch 10/100\n",
            "38/38 [==============================] - 0s 4ms/step - loss: 19.6161 - mae: 4.2317 - val_loss: 18.6005 - val_mae: 4.1043\n",
            "Epoch 11/100\n",
            "38/38 [==============================] - 0s 4ms/step - loss: 19.0177 - mae: 4.1613 - val_loss: 18.0245 - val_mae: 4.0348\n",
            "Epoch 12/100\n",
            "38/38 [==============================] - 0s 3ms/step - loss: 18.4361 - mae: 4.0913 - val_loss: 17.4638 - val_mae: 3.9661\n",
            "Epoch 13/100\n",
            "38/38 [==============================] - 0s 4ms/step - loss: 17.8680 - mae: 4.0225 - val_loss: 16.9168 - val_mae: 3.8982\n",
            "Epoch 14/100\n",
            "38/38 [==============================] - 0s 4ms/step - loss: 17.3151 - mae: 3.9542 - val_loss: 16.3856 - val_mae: 3.8311\n",
            "Epoch 15/100\n",
            "38/38 [==============================] - 0s 4ms/step - loss: 16.7767 - mae: 3.8866 - val_loss: 15.8641 - val_mae: 3.7640\n",
            "Epoch 16/100\n",
            "38/38 [==============================] - 0s 3ms/step - loss: 16.2521 - mae: 3.8198 - val_loss: 15.3640 - val_mae: 3.6985\n",
            "Epoch 17/100\n",
            "38/38 [==============================] - 0s 3ms/step - loss: 15.7430 - mae: 3.7534 - val_loss: 14.8726 - val_mae: 3.6329\n",
            "Epoch 18/100\n",
            "38/38 [==============================] - 0s 3ms/step - loss: 15.2461 - mae: 3.6878 - val_loss: 14.3945 - val_mae: 3.5679\n",
            "Epoch 19/100\n",
            "38/38 [==============================] - 0s 4ms/step - loss: 14.7617 - mae: 3.6225 - val_loss: 13.9296 - val_mae: 3.5035\n",
            "Epoch 20/100\n",
            "38/38 [==============================] - 0s 3ms/step - loss: 14.2905 - mae: 3.5584 - val_loss: 13.4798 - val_mae: 3.4412\n",
            "Epoch 21/100\n",
            "38/38 [==============================] - 0s 4ms/step - loss: 13.8330 - mae: 3.4959 - val_loss: 13.0396 - val_mae: 3.3792\n",
            "Epoch 22/100\n",
            "38/38 [==============================] - 0s 4ms/step - loss: 13.3862 - mae: 3.4335 - val_loss: 12.6112 - val_mae: 3.3177\n",
            "Epoch 23/100\n",
            "38/38 [==============================] - 0s 3ms/step - loss: 12.9520 - mae: 3.3720 - val_loss: 12.1967 - val_mae: 3.2570\n",
            "Epoch 24/100\n",
            "38/38 [==============================] - 0s 4ms/step - loss: 12.5293 - mae: 3.3109 - val_loss: 11.7915 - val_mae: 3.1964\n",
            "Epoch 25/100\n",
            "38/38 [==============================] - 0s 3ms/step - loss: 12.1203 - mae: 3.2506 - val_loss: 11.4011 - val_mae: 3.1369\n",
            "Epoch 26/100\n",
            "38/38 [==============================] - 0s 4ms/step - loss: 11.7232 - mae: 3.1908 - val_loss: 11.0198 - val_mae: 3.0777\n",
            "Epoch 27/100\n",
            "38/38 [==============================] - 0s 4ms/step - loss: 11.3369 - mae: 3.1318 - val_loss: 10.6543 - val_mae: 3.0197\n",
            "Epoch 28/100\n",
            "38/38 [==============================] - 0s 4ms/step - loss: 10.9610 - mae: 3.0734 - val_loss: 10.2934 - val_mae: 2.9640\n",
            "Epoch 29/100\n",
            "38/38 [==============================] - 0s 4ms/step - loss: 10.5951 - mae: 3.0160 - val_loss: 9.9445 - val_mae: 2.9092\n",
            "Epoch 30/100\n",
            "38/38 [==============================] - 0s 4ms/step - loss: 10.2398 - mae: 2.9595 - val_loss: 9.6071 - val_mae: 2.8550\n",
            "Epoch 31/100\n",
            "38/38 [==============================] - 0s 3ms/step - loss: 9.8974 - mae: 2.9033 - val_loss: 9.2787 - val_mae: 2.8011\n",
            "Epoch 32/100\n",
            "38/38 [==============================] - 0s 3ms/step - loss: 9.5628 - mae: 2.8479 - val_loss: 8.9629 - val_mae: 2.7482\n",
            "Epoch 33/100\n",
            "38/38 [==============================] - 0s 3ms/step - loss: 9.2400 - mae: 2.7929 - val_loss: 8.6528 - val_mae: 2.6950\n",
            "Epoch 34/100\n",
            "38/38 [==============================] - 0s 3ms/step - loss: 8.9252 - mae: 2.7387 - val_loss: 8.3565 - val_mae: 2.6431\n",
            "Epoch 35/100\n",
            "38/38 [==============================] - 0s 4ms/step - loss: 8.6222 - mae: 2.6853 - val_loss: 8.0723 - val_mae: 2.5922\n",
            "Epoch 36/100\n",
            "38/38 [==============================] - 0s 4ms/step - loss: 8.3291 - mae: 2.6317 - val_loss: 7.7891 - val_mae: 2.5416\n",
            "Epoch 37/100\n",
            "38/38 [==============================] - 0s 3ms/step - loss: 8.0443 - mae: 2.5810 - val_loss: 7.5225 - val_mae: 2.4942\n",
            "Epoch 38/100\n",
            "38/38 [==============================] - 0s 4ms/step - loss: 7.7697 - mae: 2.5310 - val_loss: 7.2617 - val_mae: 2.4468\n",
            "Epoch 39/100\n",
            "38/38 [==============================] - 0s 4ms/step - loss: 7.5031 - mae: 2.4815 - val_loss: 7.0129 - val_mae: 2.4005\n",
            "Epoch 40/100\n",
            "38/38 [==============================] - 0s 3ms/step - loss: 7.2461 - mae: 2.4326 - val_loss: 6.7672 - val_mae: 2.3536\n",
            "Epoch 41/100\n",
            "38/38 [==============================] - 0s 3ms/step - loss: 6.9953 - mae: 2.3839 - val_loss: 6.5319 - val_mae: 2.3076\n",
            "Epoch 42/100\n",
            "38/38 [==============================] - 0s 4ms/step - loss: 6.7535 - mae: 2.3354 - val_loss: 6.3028 - val_mae: 2.2617\n",
            "Epoch 43/100\n",
            "38/38 [==============================] - 0s 4ms/step - loss: 6.5204 - mae: 2.2882 - val_loss: 6.0860 - val_mae: 2.2172\n",
            "Epoch 44/100\n",
            "38/38 [==============================] - 0s 3ms/step - loss: 6.2966 - mae: 2.2411 - val_loss: 5.8755 - val_mae: 2.1729\n",
            "Epoch 45/100\n",
            "38/38 [==============================] - 0s 3ms/step - loss: 6.0805 - mae: 2.1951 - val_loss: 5.6727 - val_mae: 2.1299\n",
            "Epoch 46/100\n",
            "38/38 [==============================] - 0s 4ms/step - loss: 5.8711 - mae: 2.1525 - val_loss: 5.4783 - val_mae: 2.0919\n",
            "Epoch 47/100\n",
            "38/38 [==============================] - 0s 4ms/step - loss: 5.6696 - mae: 2.1117 - val_loss: 5.2880 - val_mae: 2.0537\n",
            "Epoch 48/100\n",
            "38/38 [==============================] - 0s 4ms/step - loss: 5.4743 - mae: 2.0711 - val_loss: 5.1062 - val_mae: 2.0161\n",
            "Epoch 49/100\n",
            "38/38 [==============================] - 0s 4ms/step - loss: 5.2867 - mae: 2.0320 - val_loss: 4.9333 - val_mae: 1.9795\n",
            "Epoch 50/100\n",
            "38/38 [==============================] - 0s 3ms/step - loss: 5.1071 - mae: 1.9924 - val_loss: 4.7638 - val_mae: 1.9426\n",
            "Epoch 51/100\n",
            "38/38 [==============================] - 0s 4ms/step - loss: 4.9340 - mae: 1.9544 - val_loss: 4.6047 - val_mae: 1.9070\n",
            "Epoch 52/100\n",
            "38/38 [==============================] - 0s 4ms/step - loss: 4.7695 - mae: 1.9164 - val_loss: 4.4515 - val_mae: 1.8717\n",
            "Epoch 53/100\n",
            "38/38 [==============================] - 0s 4ms/step - loss: 4.6102 - mae: 1.8786 - val_loss: 4.3055 - val_mae: 1.8371\n",
            "Epoch 54/100\n",
            "38/38 [==============================] - 0s 4ms/step - loss: 4.4566 - mae: 1.8420 - val_loss: 4.1630 - val_mae: 1.8023\n",
            "Epoch 55/100\n",
            "38/38 [==============================] - 0s 4ms/step - loss: 4.3094 - mae: 1.8051 - val_loss: 4.0275 - val_mae: 1.7683\n",
            "Epoch 56/100\n",
            "38/38 [==============================] - 0s 4ms/step - loss: 4.1694 - mae: 1.7716 - val_loss: 3.8989 - val_mae: 1.7394\n",
            "Epoch 57/100\n",
            "38/38 [==============================] - 0s 4ms/step - loss: 4.0341 - mae: 1.7441 - val_loss: 3.7745 - val_mae: 1.7130\n",
            "Epoch 58/100\n",
            "38/38 [==============================] - 0s 3ms/step - loss: 3.9049 - mae: 1.7179 - val_loss: 3.6576 - val_mae: 1.6873\n",
            "Epoch 59/100\n",
            "38/38 [==============================] - 0s 3ms/step - loss: 3.7823 - mae: 1.6923 - val_loss: 3.5449 - val_mae: 1.6619\n",
            "Epoch 60/100\n",
            "38/38 [==============================] - 0s 4ms/step - loss: 3.6624 - mae: 1.6670 - val_loss: 3.4370 - val_mae: 1.6367\n",
            "Epoch 61/100\n",
            "38/38 [==============================] - 0s 4ms/step - loss: 3.5503 - mae: 1.6421 - val_loss: 3.3339 - val_mae: 1.6118\n",
            "Epoch 62/100\n",
            "38/38 [==============================] - 0s 4ms/step - loss: 3.4410 - mae: 1.6170 - val_loss: 3.2340 - val_mae: 1.5869\n",
            "Epoch 63/100\n",
            "38/38 [==============================] - 0s 4ms/step - loss: 3.3376 - mae: 1.5931 - val_loss: 3.1405 - val_mae: 1.5628\n",
            "Epoch 64/100\n",
            "38/38 [==============================] - 0s 3ms/step - loss: 3.2385 - mae: 1.5689 - val_loss: 3.0521 - val_mae: 1.5391\n",
            "Epoch 65/100\n",
            "38/38 [==============================] - 0s 4ms/step - loss: 3.1448 - mae: 1.5456 - val_loss: 2.9689 - val_mae: 1.5161\n",
            "Epoch 66/100\n",
            "38/38 [==============================] - 0s 3ms/step - loss: 3.0558 - mae: 1.5228 - val_loss: 2.8883 - val_mae: 1.4931\n",
            "Epoch 67/100\n",
            "38/38 [==============================] - 0s 4ms/step - loss: 2.9703 - mae: 1.4999 - val_loss: 2.8121 - val_mae: 1.4704\n",
            "Epoch 68/100\n",
            "38/38 [==============================] - 0s 4ms/step - loss: 2.8910 - mae: 1.4781 - val_loss: 2.7421 - val_mae: 1.4506\n",
            "Epoch 69/100\n",
            "38/38 [==============================] - 0s 3ms/step - loss: 2.8151 - mae: 1.4605 - val_loss: 2.6764 - val_mae: 1.4359\n",
            "Epoch 70/100\n",
            "38/38 [==============================] - 0s 4ms/step - loss: 2.7429 - mae: 1.4453 - val_loss: 2.6108 - val_mae: 1.4206\n",
            "Epoch 71/100\n",
            "38/38 [==============================] - 0s 4ms/step - loss: 2.6745 - mae: 1.4303 - val_loss: 2.5506 - val_mae: 1.4061\n",
            "Epoch 72/100\n",
            "38/38 [==============================] - 0s 3ms/step - loss: 2.6096 - mae: 1.4151 - val_loss: 2.4957 - val_mae: 1.3922\n",
            "Epoch 73/100\n",
            "38/38 [==============================] - 0s 3ms/step - loss: 2.5491 - mae: 1.4007 - val_loss: 2.4415 - val_mae: 1.3780\n",
            "Epoch 74/100\n",
            "38/38 [==============================] - 0s 4ms/step - loss: 2.4906 - mae: 1.3864 - val_loss: 2.3906 - val_mae: 1.3641\n",
            "Epoch 75/100\n",
            "38/38 [==============================] - 0s 4ms/step - loss: 2.4359 - mae: 1.3724 - val_loss: 2.3451 - val_mae: 1.3511\n",
            "Epoch 76/100\n",
            "38/38 [==============================] - 0s 3ms/step - loss: 2.3845 - mae: 1.3587 - val_loss: 2.3000 - val_mae: 1.3378\n",
            "Epoch 77/100\n",
            "38/38 [==============================] - 0s 3ms/step - loss: 2.3348 - mae: 1.3449 - val_loss: 2.2584 - val_mae: 1.3248\n",
            "Epoch 78/100\n",
            "38/38 [==============================] - 0s 3ms/step - loss: 2.2895 - mae: 1.3318 - val_loss: 2.2188 - val_mae: 1.3119\n",
            "Epoch 79/100\n",
            "38/38 [==============================] - 0s 3ms/step - loss: 2.2461 - mae: 1.3188 - val_loss: 2.1835 - val_mae: 1.2999\n",
            "Epoch 80/100\n",
            "38/38 [==============================] - 0s 4ms/step - loss: 2.2062 - mae: 1.3063 - val_loss: 2.1499 - val_mae: 1.2879\n",
            "Epoch 81/100\n",
            "38/38 [==============================] - 0s 3ms/step - loss: 2.1690 - mae: 1.2944 - val_loss: 2.1194 - val_mae: 1.2764\n",
            "Epoch 82/100\n",
            "38/38 [==============================] - 0s 4ms/step - loss: 2.1345 - mae: 1.2826 - val_loss: 2.0911 - val_mae: 1.2652\n",
            "Epoch 83/100\n",
            "38/38 [==============================] - 0s 4ms/step - loss: 2.1010 - mae: 1.2709 - val_loss: 2.0643 - val_mae: 1.2541\n",
            "Epoch 84/100\n",
            "38/38 [==============================] - 0s 4ms/step - loss: 2.0698 - mae: 1.2594 - val_loss: 2.0387 - val_mae: 1.2430\n",
            "Epoch 85/100\n",
            "38/38 [==============================] - 0s 4ms/step - loss: 2.0412 - mae: 1.2497 - val_loss: 2.0159 - val_mae: 1.2354\n",
            "Epoch 86/100\n",
            "38/38 [==============================] - 0s 4ms/step - loss: 2.0143 - mae: 1.2421 - val_loss: 1.9944 - val_mae: 1.2277\n",
            "Epoch 87/100\n",
            "38/38 [==============================] - 0s 4ms/step - loss: 1.9894 - mae: 1.2346 - val_loss: 1.9757 - val_mae: 1.2206\n",
            "Epoch 88/100\n",
            "38/38 [==============================] - 0s 4ms/step - loss: 1.9669 - mae: 1.2275 - val_loss: 1.9573 - val_mae: 1.2133\n",
            "Epoch 89/100\n",
            "38/38 [==============================] - 0s 3ms/step - loss: 1.9455 - mae: 1.2203 - val_loss: 1.9418 - val_mae: 1.2067\n",
            "Epoch 90/100\n",
            "38/38 [==============================] - 0s 4ms/step - loss: 1.9258 - mae: 1.2135 - val_loss: 1.9260 - val_mae: 1.1996\n",
            "Epoch 91/100\n",
            "38/38 [==============================] - 0s 4ms/step - loss: 1.9074 - mae: 1.2069 - val_loss: 1.9129 - val_mae: 1.1933\n",
            "Epoch 92/100\n",
            "38/38 [==============================] - 0s 4ms/step - loss: 1.8914 - mae: 1.2006 - val_loss: 1.9012 - val_mae: 1.1872\n",
            "Epoch 93/100\n",
            "38/38 [==============================] - 0s 3ms/step - loss: 1.8762 - mae: 1.1946 - val_loss: 1.8903 - val_mae: 1.1812\n",
            "Epoch 94/100\n",
            "38/38 [==============================] - 0s 4ms/step - loss: 1.8625 - mae: 1.1885 - val_loss: 1.8805 - val_mae: 1.1755\n",
            "Epoch 95/100\n",
            "38/38 [==============================] - 0s 4ms/step - loss: 1.8494 - mae: 1.1829 - val_loss: 1.8718 - val_mae: 1.1699\n",
            "Epoch 96/100\n",
            "38/38 [==============================] - 0s 4ms/step - loss: 1.8374 - mae: 1.1772 - val_loss: 1.8637 - val_mae: 1.1644\n",
            "Epoch 97/100\n",
            "38/38 [==============================] - 0s 4ms/step - loss: 1.8267 - mae: 1.1717 - val_loss: 1.8561 - val_mae: 1.1587\n",
            "Epoch 98/100\n",
            "38/38 [==============================] - 0s 4ms/step - loss: 1.8165 - mae: 1.1663 - val_loss: 1.8500 - val_mae: 1.1537\n",
            "Epoch 99/100\n",
            "38/38 [==============================] - 0s 4ms/step - loss: 1.8082 - mae: 1.1615 - val_loss: 1.8449 - val_mae: 1.1491\n",
            "Epoch 100/100\n",
            "38/38 [==============================] - 0s 4ms/step - loss: 1.8002 - mae: 1.1570 - val_loss: 1.8402 - val_mae: 1.1446\n"
          ]
        }
      ],
      "source": [
        "model.compile(loss = \"mean_squared_error\", optimizer = 'adam', metrics = ['mae'])\n",
        "history = model.fit(x_train, y_train, batch_size = 32,epochs = 100,validation_split=VALIDATION_SPLIT)"
      ],
      "id": "WmdA3nncfCon"
    },
    {
      "cell_type": "code",
      "source": [
        ""
      ],
      "metadata": {
        "id": "MSUZu9L6CB17"
      },
      "id": "MSUZu9L6CB17",
      "execution_count": 12,
      "outputs": []
    },
    {
      "cell_type": "markdown",
      "metadata": {
        "id": "PEl361YhxDDi"
      },
      "source": [
        "#### History"
      ],
      "id": "PEl361YhxDDi"
    },
    {
      "cell_type": "code",
      "execution_count": 13,
      "metadata": {
        "id": "x77pM8HYGZBb",
        "colab": {
          "base_uri": "https://localhost:8080/"
        },
        "outputId": "83028ee2-8970-40ef-ce3b-61f0d5698435"
      },
      "outputs": [
        {
          "output_type": "stream",
          "name": "stdout",
          "text": [
            "12/12 [==============================] - 0s 2ms/step - loss: 1.6881 - mae: 1.1131\n",
            "\n",
            "loss: 1.688125729560852\n",
            "mae 1.1130967140197754\n"
          ]
        }
      ],
      "source": [
        "score = model.evaluate(x_test, y_test,)\n",
        "print(\"\\nloss:\", score[0])\n",
        "print('mae', score[1])"
      ],
      "id": "x77pM8HYGZBb"
    },
    {
      "cell_type": "code",
      "execution_count": 14,
      "metadata": {
        "id": "FXMWapkrxCmn"
      },
      "outputs": [],
      "source": [
        "# summarize history for loss\n",
        "#plt.plot(history.history['loss'])\n",
        "#plt.plot(history.history['mae'])\n",
        "#plt.title('model loss')\n",
        "#plt.ylabel('loss')\n",
        "#plt.xlabel('epoch')\n",
        "#plt.legend(['train', 'test'], loc='upper left')\n",
        "#plt.show()"
      ],
      "id": "FXMWapkrxCmn"
    },
    {
      "cell_type": "code",
      "execution_count": 15,
      "metadata": {
        "id": "XVdAov_gDTTw",
        "colab": {
          "base_uri": "https://localhost:8080/"
        },
        "outputId": "f7795fbb-a15a-4295-b498-c988e9e334f2"
      },
      "outputs": [
        {
          "output_type": "stream",
          "name": "stdout",
          "text": [
            "dict_keys(['loss', 'mae', 'val_loss', 'val_mae'])\n"
          ]
        }
      ],
      "source": [
        "print(history.history.keys())"
      ],
      "id": "XVdAov_gDTTw"
    },
    {
      "cell_type": "markdown",
      "metadata": {
        "id": "4u1jfVyJALKQ"
      },
      "source": [
        "The curve of the loss is decreasing which means the model is good\n"
      ],
      "id": "4u1jfVyJALKQ"
    },
    {
      "cell_type": "markdown",
      "metadata": {
        "id": "f5RVvM0DanuT"
      },
      "source": [
        "### COMPARING WITH GRADIENT BOOSTING ALGORITHM"
      ],
      "id": "f5RVvM0DanuT"
    },
    {
      "cell_type": "markdown",
      "metadata": {
        "id": "PvwlAHrTd0Bl"
      },
      "source": [
        "#### Gradient Boosting Regressor"
      ],
      "id": "PvwlAHrTd0Bl"
    },
    {
      "cell_type": "code",
      "execution_count": 16,
      "metadata": {
        "id": "v6cv-IC0d3qR",
        "colab": {
          "base_uri": "https://localhost:8080/"
        },
        "outputId": "fe9cb8ce-7a67-4532-8ae6-02975952c3ce"
      },
      "outputs": [
        {
          "output_type": "execute_result",
          "data": {
            "text/plain": [
              "GradientBoostingRegressor()"
            ]
          },
          "metadata": {},
          "execution_count": 16
        }
      ],
      "source": [
        "from sklearn.ensemble import GradientBoostingRegressor\n",
        "\n",
        "params = {'n_estimators' : 3, 'max_depth' : 3, 'learning rate' : 0.001, 'criterion': 'mse'}\n",
        "\n",
        "gbrmodel = GradientBoostingRegressor()\n",
        "gbrmodel.fit(x_train, y_train)"
      ],
      "id": "v6cv-IC0d3qR"
    },
    {
      "cell_type": "code",
      "execution_count": 17,
      "metadata": {
        "id": "nkD_RNr5qjFe",
        "colab": {
          "base_uri": "https://localhost:8080/"
        },
        "outputId": "a104270a-1e4f-40f4-cf8f-ad27a0c6d7e4"
      },
      "outputs": [
        {
          "output_type": "stream",
          "name": "stdout",
          "text": [
            "The mean squared error (MSE) on test set: 0.6368\n"
          ]
        }
      ],
      "source": [
        "mse = mean_squared_error(y_test, gbrmodel.predict(x_test))\n",
        "print(\"The mean squared error (MSE) on test set: {:.4f}\".format(mse))"
      ],
      "id": "nkD_RNr5qjFe"
    },
    {
      "cell_type": "markdown",
      "metadata": {
        "id": "u6nVWmmc-jBL"
      },
      "source": [
        "#### LightGBM"
      ],
      "id": "u6nVWmmc-jBL"
    },
    {
      "cell_type": "code",
      "execution_count": 18,
      "metadata": {
        "id": "8hyTb1jBVDsE",
        "colab": {
          "base_uri": "https://localhost:8080/"
        },
        "outputId": "6022bde2-c342-4511-b439-7345bbab3088"
      },
      "outputs": [
        {
          "output_type": "stream",
          "name": "stdout",
          "text": [
            "LGBMRegressor()\n"
          ]
        }
      ],
      "source": [
        "import lightgbm as lg\n",
        "\n",
        "lgmodel = lg.LGBMRegressor()\n",
        "\n",
        "lgmodel.fit(x_train, y_train)\n",
        "print(lgmodel)"
      ],
      "id": "8hyTb1jBVDsE"
    },
    {
      "cell_type": "code",
      "execution_count": 19,
      "metadata": {
        "id": "CS5LfJhzoVLn",
        "colab": {
          "base_uri": "https://localhost:8080/"
        },
        "outputId": "2cdb57de-5a88-4eee-bb46-02b2b25292d8"
      },
      "outputs": [
        {
          "output_type": "stream",
          "name": "stdout",
          "text": [
            "0.4006941757570663\n"
          ]
        }
      ],
      "source": [
        "lg_train = lgmodel.predict(x_train)\n",
        "print(np.sqrt(mean_squared_error(y_train,lg_train)))"
      ],
      "id": "CS5LfJhzoVLn"
    },
    {
      "cell_type": "code",
      "execution_count": 20,
      "metadata": {
        "id": "Xu-ztcL8oo8d",
        "colab": {
          "base_uri": "https://localhost:8080/"
        },
        "outputId": "2e9f9ca9-5b32-48a9-c372-deb9ac0c2d8a"
      },
      "outputs": [
        {
          "output_type": "stream",
          "name": "stdout",
          "text": [
            "0.5401781836671524\n"
          ]
        }
      ],
      "source": [
        "lg_test = lgmodel.predict(x_test)\n",
        "print(np.sqrt(mean_squared_error(y_test,lg_test)))"
      ],
      "id": "Xu-ztcL8oo8d"
    },
    {
      "cell_type": "markdown",
      "metadata": {
        "id": "bYp6WtS8-mO_"
      },
      "source": [
        "#### XGBoost"
      ],
      "id": "bYp6WtS8-mO_"
    },
    {
      "cell_type": "code",
      "execution_count": 21,
      "metadata": {
        "id": "MKd_F3ckAoB3",
        "colab": {
          "base_uri": "https://localhost:8080/"
        },
        "outputId": "1aa83d8b-3cc4-465b-e05a-1b32ba18ef64"
      },
      "outputs": [
        {
          "output_type": "stream",
          "name": "stdout",
          "text": [
            "[10:36:20] WARNING: /workspace/src/objective/regression_obj.cu:152: reg:linear is now deprecated in favor of reg:squarederror.\n"
          ]
        },
        {
          "output_type": "execute_result",
          "data": {
            "text/plain": [
              "XGBRegressor(alpha=10, colsample_bytree=0.3, max_depth=5, n_estimators=10)"
            ]
          },
          "metadata": {},
          "execution_count": 21
        }
      ],
      "source": [
        "import xgboost as xgb\n",
        "\n",
        "data_dmatrix = xgb.DMatrix(data = x, label = y)\n",
        "\n",
        "\n",
        "xgreg = xgb.XGBRegressor(objective ='reg:linear', colsample_bytree = 0.3, learning_rate = 0.1,\n",
        "                max_depth = 5, alpha = 10, n_estimators = 10)\n",
        "\n",
        "xgreg.fit(x_train,y_train)"
      ],
      "id": "MKd_F3ckAoB3"
    },
    {
      "cell_type": "code",
      "execution_count": 22,
      "metadata": {
        "id": "ULGjGXEwAn-e",
        "colab": {
          "base_uri": "https://localhost:8080/"
        },
        "outputId": "90cda0a7-56ed-468d-9407-da55464b65f4"
      },
      "outputs": [
        {
          "output_type": "stream",
          "name": "stdout",
          "text": [
            "2.109844864505755\n"
          ]
        }
      ],
      "source": [
        "xg_train = xgreg.predict(x_train)\n",
        "print(np.sqrt(mean_squared_error(y_train,xg_train)))"
      ],
      "id": "ULGjGXEwAn-e"
    },
    {
      "cell_type": "code",
      "execution_count": 23,
      "metadata": {
        "id": "K_hjfK-4An7d",
        "colab": {
          "base_uri": "https://localhost:8080/"
        },
        "outputId": "06ae92a5-219d-43b8-af46-24d4be96f56a"
      },
      "outputs": [
        {
          "output_type": "stream",
          "name": "stdout",
          "text": [
            "2.124768373487818\n"
          ]
        }
      ],
      "source": [
        "xg_test = xgreg.predict(x_test)\n",
        "print(np.sqrt(mean_squared_error(y_test,xg_test)))"
      ],
      "id": "K_hjfK-4An7d"
    },
    {
      "cell_type": "code",
      "source": [
        ""
      ],
      "metadata": {
        "id": "sTFp-q2Ne7uL"
      },
      "id": "sTFp-q2Ne7uL",
      "execution_count": 23,
      "outputs": []
    }
  ],
  "metadata": {
    "accelerator": "TPU",
    "colab": {
      "collapsed_sections": [],
      "name": "PERSPRED.ipynb",
      "provenance": []
    },
    "kernelspec": {
      "display_name": "Python 3",
      "language": "python",
      "name": "python3"
    },
    "language_info": {
      "codemirror_mode": {
        "name": "ipython",
        "version": 3
      },
      "file_extension": ".py",
      "mimetype": "text/x-python",
      "name": "python",
      "nbconvert_exporter": "python",
      "pygments_lexer": "ipython3",
      "version": "3.8.8"
    }
  },
  "nbformat": 4,
  "nbformat_minor": 5
}